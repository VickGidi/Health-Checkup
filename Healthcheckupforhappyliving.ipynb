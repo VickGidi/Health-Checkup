{
  "nbformat": 4,
  "nbformat_minor": 0,
  "metadata": {
    "colab": {
      "provenance": []
    },
    "kernelspec": {
      "name": "python3",
      "display_name": "Python 3"
    },
    "language_info": {
      "name": "python"
    }
  },
  "cells": [
    {
      "cell_type": "code",
      "execution_count": 1,
      "metadata": {
        "colab": {
          "base_uri": "https://localhost:8080/"
        },
        "id": "6NxAkhtmL3ZO",
        "outputId": "3bd9bd13-573f-4096-9fc5-fac5169d370a"
      },
      "outputs": [
        {
          "output_type": "stream",
          "name": "stdout",
          "text": [
            "🌿 Welcome to the Health Checkup for Happy Living! 🌿\n",
            "\n",
            "How many 250ml cups of water did you drink today? 3\n",
            "Did you eat a fruit today? (yes/no): yes\n",
            "Did you do any form of exercise today? (yes/no): yes\n",
            "How many hours did you sleep last night? 4\n",
            "How many grams of junk food did you eat in the last 24 hours? 200\n",
            "Did you take any time for mindfulness or screen breaks today? (yes/no): no\n",
            "\n",
            "🧠 Health Check Result:\n",
            "Your health score is: 2/5\n",
            "💡 Suggestion: Try making small improvements in your daily routine. Aim for a walk, water, and sleep.\n",
            "\n",
            "Thanks for checking in. Small steps lead to big changes! 🌱\n"
          ]
        }
      ],
      "source": [
        "def get_yes_no_input(prompt):\n",
        "    \"\"\"Get 'yes' or 'no' input from the user and validate it.\"\"\"\n",
        "    while True:\n",
        "        answer = input(prompt + \" (yes/no): \").strip().lower()\n",
        "        if answer in ['yes', 'no']:\n",
        "            return answer\n",
        "        else:\n",
        "            print(\"Please enter 'yes' or 'no'.\")\n",
        "\n",
        "def get_positive_float(prompt):\n",
        "    \"\"\"Get a positive float input from the user.\"\"\"\n",
        "    while True:\n",
        "        try:\n",
        "            value = float(input(prompt))\n",
        "            if value >= 0:\n",
        "                return value\n",
        "            else:\n",
        "                print(\"Please enter a non-negative number.\")\n",
        "        except ValueError:\n",
        "            print(\"Invalid input. Please enter a number.\")\n",
        "\n",
        "def calculate_health_score(water, fruit, exercise, sleep, junk_food, mindfulness):\n",
        "    score = 5  # start from 5 (perfect)\n",
        "\n",
        "    # Evaluate water intake\n",
        "    if water < 6:  # Less than 1.5L\n",
        "        score -= 1\n",
        "\n",
        "    # Evaluate fruit intake\n",
        "    if fruit == 'no':\n",
        "        score -= 0.5\n",
        "\n",
        "    # Evaluate exercise\n",
        "    if exercise == 'no':\n",
        "        score -= 1\n",
        "\n",
        "    # Evaluate sleep\n",
        "    if sleep < 6:\n",
        "        score -= 1\n",
        "    elif sleep > 9:\n",
        "        score -= 0.5  # Too much can also be a sign of fatigue\n",
        "\n",
        "    # Evaluate junk food\n",
        "    if junk_food > 100:\n",
        "        score -= 1\n",
        "\n",
        "    # Evaluate mindfulness or screen break\n",
        "    if mindfulness == 'no':\n",
        "        score -= 0.5\n",
        "\n",
        "    # Ensure score stays between 1 and 5\n",
        "    return max(1, min(5, round(score)))\n",
        "\n",
        "def suggest_improvement(score):\n",
        "    if score == 5:\n",
        "        return \"You're doing great! Keep it up! 💪\"\n",
        "    suggestions = {\n",
        "        4: \"Almost perfect! Try drinking more water or sleeping slightly better.\",\n",
        "        3: \"Consider cutting down on junk food and adding a fruit or exercise.\",\n",
        "        2: \"Try making small improvements in your daily routine. Aim for a walk, water, and sleep.\",\n",
        "        1: \"Please pay attention to your health. Consult a professional if needed.\"\n",
        "    }\n",
        "    return suggestions.get(score, \"\")\n",
        "\n",
        "def main():\n",
        "    print(\"🌿 Welcome to the Health Checkup for Happy Living! 🌿\\n\")\n",
        "\n",
        "    water = get_positive_float(\"How many 250ml cups of water did you drink today? \")\n",
        "    fruit = get_yes_no_input(\"Did you eat a fruit today?\")\n",
        "    exercise = get_yes_no_input(\"Did you do any form of exercise today?\")\n",
        "    sleep = get_positive_float(\"How many hours did you sleep last night? \")\n",
        "    junk_food = get_positive_float(\"How many grams of junk food did you eat in the last 24 hours? \")\n",
        "    mindfulness = get_yes_no_input(\"Did you take any time for mindfulness or screen breaks today?\")\n",
        "\n",
        "    score = calculate_health_score(water, fruit, exercise, sleep, junk_food, mindfulness)\n",
        "\n",
        "    print(\"\\n🧠 Health Check Result:\")\n",
        "    print(f\"Your health score is: {score}/5\")\n",
        "\n",
        "    feedback = suggest_improvement(score)\n",
        "    print(\"💡 Suggestion:\", feedback)\n",
        "\n",
        "    print(\"\\nThanks for checking in. Small steps lead to big changes! 🌱\")\n",
        "\n",
        "if __name__ == \"__main__\":\n",
        "    main()"
      ]
    }
  ]
}